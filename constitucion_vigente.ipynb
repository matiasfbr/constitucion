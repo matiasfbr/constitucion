{
 "cells": [
  {
   "cell_type": "code",
   "execution_count": 1,
   "id": "2ee5a2d3-2052-4b47-b6d0-eba131e2601f",
   "metadata": {},
   "outputs": [],
   "source": [
    "import pandas as pd\n",
    "import numpy as np\n",
    "from datetime import datetime\n",
    "import time\n",
    "import urllib3\n",
    "import json"
   ]
  },
  {
   "cell_type": "code",
   "execution_count": 2,
   "id": "103fe3b4-094e-49fc-8958-6e9e6d73b0ee",
   "metadata": {},
   "outputs": [],
   "source": [
    "import os"
   ]
  },
  {
   "cell_type": "markdown",
   "id": "75658fcd-2648-401c-88fe-a0874b90fc9d",
   "metadata": {},
   "source": [
    "url = 'https://www.bcn.cl/leychile/navegar/imprimir?idNorma=242302&idVersion=2022-04-29'"
   ]
  },
  {
   "cell_type": "code",
   "execution_count": 3,
   "id": "5a549c39-3fdf-42d7-8cda-72233e58c8ba",
   "metadata": {},
   "outputs": [],
   "source": [
    "## Leyendo archivos"
   ]
  },
  {
   "cell_type": "code",
   "execution_count": 64,
   "id": "cd8f7ac8-000c-4e66-9bb1-b563079b37d1",
   "metadata": {},
   "outputs": [],
   "source": [
    "path = 'Textos/'\n",
    "filelist = os.listdir(path)"
   ]
  },
  {
   "cell_type": "code",
   "execution_count": 65,
   "id": "8ec86b2e-82f9-42ee-98f6-f797eaf5d696",
   "metadata": {},
   "outputs": [],
   "source": [
    "filelist.sort()"
   ]
  },
  {
   "cell_type": "code",
   "execution_count": 66,
   "id": "c453a6ad-e0b4-4a22-b403-9ff02e11a7f1",
   "metadata": {},
   "outputs": [
    {
     "data": {
      "text/plain": [
       "['.ipynb_checkpoints',\n",
       " 'Capitulo 01.txt',\n",
       " 'Capitulo 02.txt',\n",
       " 'Capitulo 03.txt',\n",
       " 'Capitulo 04.txt',\n",
       " 'Capitulo 05.txt',\n",
       " 'Capitulo 06.txt',\n",
       " 'Capitulo 07.txt',\n",
       " 'Capitulo 08.txt',\n",
       " 'Capitulo 09.txt',\n",
       " 'Capitulo 10.txt',\n",
       " 'Capitulo 11.txt',\n",
       " 'Capitulo 12.txt',\n",
       " 'Capitulo 13.txt',\n",
       " 'Capitulo 14.txt',\n",
       " 'Capitulo 15.txt',\n",
       " 'Disposiciones transitorias.txt',\n",
       " 'Promulgacion.txt']"
      ]
     },
     "execution_count": 66,
     "metadata": {},
     "output_type": "execute_result"
    }
   ],
   "source": [
    "filelist"
   ]
  },
  {
   "cell_type": "markdown",
   "id": "58cbee48-009e-4e85-b5e6-1389674b0f60",
   "metadata": {},
   "source": [
    "Eliminando el capitulo de promulgación"
   ]
  },
  {
   "cell_type": "code",
   "execution_count": 67,
   "id": "271bc3dc-5341-476f-a70f-ef3feb810b8a",
   "metadata": {},
   "outputs": [],
   "source": [
    "filelist.remove('Promulgacion.txt')"
   ]
  },
  {
   "cell_type": "code",
   "execution_count": 68,
   "id": "4aa27f1b-dfc1-49b7-84cd-2b1060c54cba",
   "metadata": {},
   "outputs": [
    {
     "data": {
      "text/plain": [
       "['.ipynb_checkpoints',\n",
       " 'Capitulo 01.txt',\n",
       " 'Capitulo 02.txt',\n",
       " 'Capitulo 03.txt',\n",
       " 'Capitulo 04.txt',\n",
       " 'Capitulo 05.txt',\n",
       " 'Capitulo 06.txt',\n",
       " 'Capitulo 07.txt',\n",
       " 'Capitulo 08.txt',\n",
       " 'Capitulo 09.txt',\n",
       " 'Capitulo 10.txt',\n",
       " 'Capitulo 11.txt',\n",
       " 'Capitulo 12.txt',\n",
       " 'Capitulo 13.txt',\n",
       " 'Capitulo 14.txt',\n",
       " 'Capitulo 15.txt',\n",
       " 'Disposiciones transitorias.txt']"
      ]
     },
     "execution_count": 68,
     "metadata": {},
     "output_type": "execute_result"
    }
   ],
   "source": [
    "filelist"
   ]
  },
  {
   "cell_type": "code",
   "execution_count": 69,
   "id": "f3e4de4f-9fa6-4089-a434-f88549763665",
   "metadata": {},
   "outputs": [],
   "source": [
    "texto_total = ''\n",
    "\n",
    "for file in filelist[1:]:\n",
    "    with open(path+file, 'r', encoding = 'utf-8') as f:\n",
    "        text = f.read()\n",
    "        if text[-1:] != '\\n':\n",
    "            text = text+'\\n'\n",
    "        else:\n",
    "            text = text\n",
    "    \n",
    "    texto_total = texto_total + text\n",
    "\n",
    "serie = texto_total.split('\\n')"
   ]
  },
  {
   "cell_type": "code",
   "execution_count": 70,
   "id": "950b5471-8fa1-4597-9673-991b6cb22716",
   "metadata": {},
   "outputs": [],
   "source": [
    "df = pd.DataFrame({'texto':serie})"
   ]
  },
  {
   "cell_type": "code",
   "execution_count": 71,
   "id": "5e7fbfac-f731-474e-981c-335bba2c4a2d",
   "metadata": {},
   "outputs": [],
   "source": [
    "df['texto'] = df['texto'].str.strip()"
   ]
  },
  {
   "cell_type": "code",
   "execution_count": 72,
   "id": "ed840100-5793-4fee-80c1-143ac2340997",
   "metadata": {},
   "outputs": [],
   "source": [
    "df['capitulo'] = np.where(df['texto'].str.contains('Preámbulo'),df['texto'],np.nan)\n",
    "df['capitulo'] = np.where(df['texto'].str.contains('DISPOSICIONES TRANSITORIAS'),df['texto'],df['capitulo'])\n",
    "df['capitulo'] = np.where(df['texto'].str.contains('Capítulo'),df['texto'],df['capitulo'])\n",
    "df['capitulo'] = np.where(df['texto'].str.contains('DECIMOSEXTA'),np.nan,df['capitulo'])\n",
    "df['capitulo'] = np.where(df['texto'].str.contains('Los procesos iniciados, de oficio o a petición de parte, o que se iniciaren en la Corte Suprema'),np.nan,df['capitulo'])\n",
    "df['capitulo'] = np.where(df['texto'].str.contains('Las contiendas de competencia actualmente trabadas ante la Corte Suprema'),np.nan,df['capitulo'])\n",
    "df['capitulo'] = np.where(df['texto'].str.contains('En lo no previsto en este Capítulo, serán aplicables'),np.nan,df['capitulo'])\n",
    "\n",
    "\n",
    "#Para asegurar que aparezca el capitulo IV\n",
    "df['articulo'] = np.where(df['texto'].str.contains('Artículo'),df['texto'],np.nan)\n",
    "df['texto'] = np.where(df['texto']=='', np.nan, df['texto'])\n",
    "df['texto'] = np.where(df['texto']==df['articulo'], np.nan, df['texto'])\n",
    "df['texto'] = np.where(df['texto']==df['capitulo'], np.nan, df['texto'])\n",
    "# Agregar numeral y ordinal (??)\n",
    "\n",
    "\n",
    "df['capitulo'].fillna(method='pad', inplace=True)\n",
    "df['articulo'].fillna(method='pad', inplace=True)"
   ]
  },
  {
   "cell_type": "code",
   "execution_count": 73,
   "id": "4a081a06-d0d2-4f2b-81a2-57a709bb5b77",
   "metadata": {},
   "outputs": [],
   "source": [
    "df.dropna(subset = 'texto', inplace = True)"
   ]
  },
  {
   "cell_type": "code",
   "execution_count": 74,
   "id": "88d2c335-0ecb-4c67-a78b-1a34d2622f3f",
   "metadata": {},
   "outputs": [],
   "source": [
    "df['nro_capitulo'] = df['capitulo'].str.split(':', expand = True)[0]\n",
    "df['nro_capitulo'] = df['nro_capitulo'].str.replace('# ','')\n",
    "df['titulo_capitulo'] = df['capitulo'].str.split(':', expand = True)[1]\n",
    "df['titulo_capitulo'] = df['titulo_capitulo'].str.strip()\n",
    "df['articulo'] = df['articulo'].str.replace('### ','')\n",
    "\n",
    "df['articulo'] = np.where(df['nro_capitulo']=='Convención Constitucional',np.nan,df['articulo'])\n",
    "df['titulo_capitulo'] = np.where(df['titulo_capitulo'].isna(), df['nro_capitulo'], df['titulo_capitulo'])"
   ]
  },
  {
   "cell_type": "code",
   "execution_count": 75,
   "id": "9453cdcc-3ebb-493a-b656-6bf74de203c4",
   "metadata": {},
   "outputs": [],
   "source": [
    "df = df[['nro_capitulo','titulo_capitulo','articulo','texto']]\n",
    "df.rename(columns = {'nro_capitulo':'capitulo'}, inplace = True)"
   ]
  },
  {
   "cell_type": "code",
   "execution_count": 76,
   "id": "a243f5b6-d4d5-4999-8991-e467c3a9e653",
   "metadata": {},
   "outputs": [
    {
     "data": {
      "text/plain": [
       "DISPOSICIONES TRANSITORIAS    250\n",
       "Capítulo V                    148\n",
       "Capítulo III                  120\n",
       "Capítulo XV                   108\n",
       "Capítulo IV                    72\n",
       "Capítulo XIV                   53\n",
       "Capítulo VIII                  47\n",
       "Capítulo II                    24\n",
       "Capítulo VI                    23\n",
       "Capítulo I                     16\n",
       "Capítulo IX                    14\n",
       "Capítulo VII                   10\n",
       "Capítulo XI                     5\n",
       "Capítulo X                      4\n",
       "Capítulo XII                    4\n",
       "Capítulo XIII                   4\n",
       "Name: capitulo, dtype: int64"
      ]
     },
     "execution_count": 76,
     "metadata": {},
     "output_type": "execute_result"
    }
   ],
   "source": [
    "df['capitulo'].value_counts()"
   ]
  },
  {
   "cell_type": "code",
   "execution_count": 77,
   "id": "149b8e23-f60a-43ab-b6aa-a78aab49bf8c",
   "metadata": {},
   "outputs": [
    {
     "data": {
      "text/html": [
       "<div>\n",
       "<style scoped>\n",
       "    .dataframe tbody tr th:only-of-type {\n",
       "        vertical-align: middle;\n",
       "    }\n",
       "\n",
       "    .dataframe tbody tr th {\n",
       "        vertical-align: top;\n",
       "    }\n",
       "\n",
       "    .dataframe thead th {\n",
       "        text-align: right;\n",
       "    }\n",
       "</style>\n",
       "<table border=\"1\" class=\"dataframe\">\n",
       "  <thead>\n",
       "    <tr style=\"text-align: right;\">\n",
       "      <th></th>\n",
       "      <th>capitulo</th>\n",
       "      <th>titulo_capitulo</th>\n",
       "      <th>articulo</th>\n",
       "      <th>texto</th>\n",
       "    </tr>\n",
       "  </thead>\n",
       "  <tbody>\n",
       "    <tr>\n",
       "      <th>5</th>\n",
       "      <td>Capítulo I</td>\n",
       "      <td>BASES DE LA INSTITUCIONALIDAD</td>\n",
       "      <td>Artículo 1°.- Las personas nacen libres e igua...</td>\n",
       "      <td>La familia es el núcleo fundamental de la soci...</td>\n",
       "    </tr>\n",
       "    <tr>\n",
       "      <th>6</th>\n",
       "      <td>Capítulo I</td>\n",
       "      <td>BASES DE LA INSTITUCIONALIDAD</td>\n",
       "      <td>Artículo 1°.- Las personas nacen libres e igua...</td>\n",
       "      <td>El Estado reconoce y ampara a los grupos inter...</td>\n",
       "    </tr>\n",
       "    <tr>\n",
       "      <th>7</th>\n",
       "      <td>Capítulo I</td>\n",
       "      <td>BASES DE LA INSTITUCIONALIDAD</td>\n",
       "      <td>Artículo 1°.- Las personas nacen libres e igua...</td>\n",
       "      <td>El Estado está al servicio de la persona human...</td>\n",
       "    </tr>\n",
       "    <tr>\n",
       "      <th>8</th>\n",
       "      <td>Capítulo I</td>\n",
       "      <td>BASES DE LA INSTITUCIONALIDAD</td>\n",
       "      <td>Artículo 1°.- Las personas nacen libres e igua...</td>\n",
       "      <td>Es deber del Estado resguardar la seguridad na...</td>\n",
       "    </tr>\n",
       "    <tr>\n",
       "      <th>15</th>\n",
       "      <td>Capítulo I</td>\n",
       "      <td>BASES DE LA INSTITUCIONALIDAD</td>\n",
       "      <td>Artículo 3º.- El Estado de Chile es unitario.</td>\n",
       "      <td>La administración del Estado será funcional y ...</td>\n",
       "    </tr>\n",
       "    <tr>\n",
       "      <th>...</th>\n",
       "      <td>...</td>\n",
       "      <td>...</td>\n",
       "      <td>...</td>\n",
       "      <td>...</td>\n",
       "    </tr>\n",
       "    <tr>\n",
       "      <th>1706</th>\n",
       "      <td>DISPOSICIONES TRANSITORIAS</td>\n",
       "      <td>DISPOSICIONES TRANSITORIAS</td>\n",
       "      <td>VIGESIMA.- En tanto no se creen los tribunales...</td>\n",
       "      <td>El procedimiento de solicitud, la exención de ...</td>\n",
       "    </tr>\n",
       "    <tr>\n",
       "      <th>1707</th>\n",
       "      <td>DISPOSICIONES TRANSITORIAS</td>\n",
       "      <td>DISPOSICIONES TRANSITORIAS</td>\n",
       "      <td>VIGESIMA.- En tanto no se creen los tribunales...</td>\n",
       "      <td>Estarán impedidos de solicitar el retiro a que...</td>\n",
       "    </tr>\n",
       "    <tr>\n",
       "      <th>1708</th>\n",
       "      <td>DISPOSICIONES TRANSITORIAS</td>\n",
       "      <td>DISPOSICIONES TRANSITORIAS</td>\n",
       "      <td>VIGESIMA.- En tanto no se creen los tribunales...</td>\n",
       "      <td>Quienes hubieren hecho ejercicio del derecho e...</td>\n",
       "    </tr>\n",
       "    <tr>\n",
       "      <th>1709</th>\n",
       "      <td>DISPOSICIONES TRANSITORIAS</td>\n",
       "      <td>DISPOSICIONES TRANSITORIAS</td>\n",
       "      <td>VIGESIMA.- En tanto no se creen los tribunales...</td>\n",
       "      <td>Sin perjuicio de lo anterior, quienes hubieren...</td>\n",
       "    </tr>\n",
       "    <tr>\n",
       "      <th>1710</th>\n",
       "      <td>DISPOSICIONES TRANSITORIAS</td>\n",
       "      <td>DISPOSICIONES TRANSITORIAS</td>\n",
       "      <td>VIGESIMA.- En tanto no se creen los tribunales...</td>\n",
       "      <td>QUINCUAGÉSIMA PRIMERA. Sin perjuicio de las no...</td>\n",
       "    </tr>\n",
       "  </tbody>\n",
       "</table>\n",
       "<p>902 rows × 4 columns</p>\n",
       "</div>"
      ],
      "text/plain": [
       "                        capitulo                titulo_capitulo  \\\n",
       "5                     Capítulo I  BASES DE LA INSTITUCIONALIDAD   \n",
       "6                     Capítulo I  BASES DE LA INSTITUCIONALIDAD   \n",
       "7                     Capítulo I  BASES DE LA INSTITUCIONALIDAD   \n",
       "8                     Capítulo I  BASES DE LA INSTITUCIONALIDAD   \n",
       "15                    Capítulo I  BASES DE LA INSTITUCIONALIDAD   \n",
       "...                          ...                            ...   \n",
       "1706  DISPOSICIONES TRANSITORIAS     DISPOSICIONES TRANSITORIAS   \n",
       "1707  DISPOSICIONES TRANSITORIAS     DISPOSICIONES TRANSITORIAS   \n",
       "1708  DISPOSICIONES TRANSITORIAS     DISPOSICIONES TRANSITORIAS   \n",
       "1709  DISPOSICIONES TRANSITORIAS     DISPOSICIONES TRANSITORIAS   \n",
       "1710  DISPOSICIONES TRANSITORIAS     DISPOSICIONES TRANSITORIAS   \n",
       "\n",
       "                                               articulo  \\\n",
       "5     Artículo 1°.- Las personas nacen libres e igua...   \n",
       "6     Artículo 1°.- Las personas nacen libres e igua...   \n",
       "7     Artículo 1°.- Las personas nacen libres e igua...   \n",
       "8     Artículo 1°.- Las personas nacen libres e igua...   \n",
       "15        Artículo 3º.- El Estado de Chile es unitario.   \n",
       "...                                                 ...   \n",
       "1706  VIGESIMA.- En tanto no se creen los tribunales...   \n",
       "1707  VIGESIMA.- En tanto no se creen los tribunales...   \n",
       "1708  VIGESIMA.- En tanto no se creen los tribunales...   \n",
       "1709  VIGESIMA.- En tanto no se creen los tribunales...   \n",
       "1710  VIGESIMA.- En tanto no se creen los tribunales...   \n",
       "\n",
       "                                                  texto  \n",
       "5     La familia es el núcleo fundamental de la soci...  \n",
       "6     El Estado reconoce y ampara a los grupos inter...  \n",
       "7     El Estado está al servicio de la persona human...  \n",
       "8     Es deber del Estado resguardar la seguridad na...  \n",
       "15    La administración del Estado será funcional y ...  \n",
       "...                                                 ...  \n",
       "1706  El procedimiento de solicitud, la exención de ...  \n",
       "1707  Estarán impedidos de solicitar el retiro a que...  \n",
       "1708  Quienes hubieren hecho ejercicio del derecho e...  \n",
       "1709  Sin perjuicio de lo anterior, quienes hubieren...  \n",
       "1710  QUINCUAGÉSIMA PRIMERA. Sin perjuicio de las no...  \n",
       "\n",
       "[902 rows x 4 columns]"
      ]
     },
     "execution_count": 77,
     "metadata": {},
     "output_type": "execute_result"
    }
   ],
   "source": [
    "df"
   ]
  },
  {
   "cell_type": "code",
   "execution_count": null,
   "id": "b31db4c7-b4b1-4773-9c10-170609a97bd3",
   "metadata": {},
   "outputs": [],
   "source": []
  }
 ],
 "metadata": {
  "kernelspec": {
   "display_name": "NLP",
   "language": "python",
   "name": "nlp"
  },
  "language_info": {
   "codemirror_mode": {
    "name": "ipython",
    "version": 3
   },
   "file_extension": ".py",
   "mimetype": "text/x-python",
   "name": "python",
   "nbconvert_exporter": "python",
   "pygments_lexer": "ipython3",
   "version": "3.8.13"
  }
 },
 "nbformat": 4,
 "nbformat_minor": 5
}
