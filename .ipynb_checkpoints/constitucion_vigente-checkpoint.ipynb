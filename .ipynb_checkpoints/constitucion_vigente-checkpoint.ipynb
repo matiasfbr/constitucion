{
 "cells": [
  {
   "cell_type": "code",
   "execution_count": 4,
   "id": "2ee5a2d3-2052-4b47-b6d0-eba131e2601f",
   "metadata": {},
   "outputs": [],
   "source": [
    "import pandas as pd\n",
    "import numpy as np\n",
    "from datetime import datetime\n",
    "import time\n",
    "import urllib3\n",
    "import json"
   ]
  },
  {
   "cell_type": "code",
   "execution_count": 121,
   "id": "103fe3b4-094e-49fc-8958-6e9e6d73b0ee",
   "metadata": {},
   "outputs": [],
   "source": [
    "import os"
   ]
  },
  {
   "cell_type": "markdown",
   "id": "75658fcd-2648-401c-88fe-a0874b90fc9d",
   "metadata": {},
   "source": [
    "url = 'https://www.bcn.cl/leychile/navegar/imprimir?idNorma=242302&idVersion=2022-04-29'"
   ]
  },
  {
   "cell_type": "code",
   "execution_count": 122,
   "id": "5a549c39-3fdf-42d7-8cda-72233e58c8ba",
   "metadata": {},
   "outputs": [],
   "source": [
    "## Leyendo archivos"
   ]
  },
  {
   "cell_type": "code",
   "execution_count": 237,
   "id": "cd8f7ac8-000c-4e66-9bb1-b563079b37d1",
   "metadata": {},
   "outputs": [],
   "source": [
    "path = 'Textos/'\n",
    "filelist = os.listdir(path)"
   ]
  },
  {
   "cell_type": "code",
   "execution_count": 238,
   "id": "8ec86b2e-82f9-42ee-98f6-f797eaf5d696",
   "metadata": {},
   "outputs": [],
   "source": [
    "filelist.sort()"
   ]
  },
  {
   "cell_type": "code",
   "execution_count": 239,
   "id": "c453a6ad-e0b4-4a22-b403-9ff02e11a7f1",
   "metadata": {},
   "outputs": [
    {
     "data": {
      "text/plain": [
       "['.ipynb_checkpoints',\n",
       " 'Capitulo 01.txt',\n",
       " 'Capitulo 02.txt',\n",
       " 'Capitulo 03.txt',\n",
       " 'Capitulo 04.txt',\n",
       " 'Capitulo 05.txt',\n",
       " 'Capitulo 06.txt',\n",
       " 'Capitulo 07.txt',\n",
       " 'Capitulo 08.txt',\n",
       " 'Capitulo 09.txt',\n",
       " 'Capitulo 10.txt',\n",
       " 'Capitulo 11.txt',\n",
       " 'Capitulo 12.txt',\n",
       " 'Capitulo 13.txt',\n",
       " 'Capitulo 14.txt',\n",
       " 'Capitulo 15.txt',\n",
       " 'Disposiciones transitorias.txt',\n",
       " 'Promulgacion.txt']"
      ]
     },
     "execution_count": 239,
     "metadata": {},
     "output_type": "execute_result"
    }
   ],
   "source": [
    "filelist"
   ]
  },
  {
   "cell_type": "code",
   "execution_count": 240,
   "id": "4737760a-bc9f-4154-a7ec-a56bf1d5d86d",
   "metadata": {},
   "outputs": [],
   "source": [
    "#filelist = ['Capitulo 01.txt']"
   ]
  },
  {
   "cell_type": "code",
   "execution_count": 241,
   "id": "f3e4de4f-9fa6-4089-a434-f88549763665",
   "metadata": {},
   "outputs": [],
   "source": [
    "texto_total = ''\n",
    "\n",
    "for file in filelist[1:]:\n",
    "    with open(path+file, 'r', encoding = 'utf-8') as f:\n",
    "        text = f.read()\n",
    "        if text[-1:] != '\\n':\n",
    "            text = text+'\\n'\n",
    "        else:\n",
    "            text = text\n",
    "    \n",
    "    texto_total = texto_total + text\n",
    "\n",
    "serie = texto_total.split('\\n')"
   ]
  },
  {
   "cell_type": "code",
   "execution_count": 257,
   "id": "950b5471-8fa1-4597-9673-991b6cb22716",
   "metadata": {},
   "outputs": [],
   "source": [
    "df = pd.DataFrame({'texto':serie})"
   ]
  },
  {
   "cell_type": "code",
   "execution_count": 258,
   "id": "5e7fbfac-f731-474e-981c-335bba2c4a2d",
   "metadata": {},
   "outputs": [],
   "source": [
    "df['texto'] = df['texto'].str.strip()"
   ]
  },
  {
   "cell_type": "code",
   "execution_count": 259,
   "id": "ed840100-5793-4fee-80c1-143ac2340997",
   "metadata": {},
   "outputs": [],
   "source": [
    "df['capitulo'] = np.where(df['texto'].str.contains('Preámbulo'),df['texto'],np.nan)\n",
    "df['capitulo'] = np.where(df['texto'].str.contains('DISPOSICIONES TRANSITORIAS'),df['texto'],df['capitulo'])\n",
    "df['capitulo'] = np.where(df['texto'].str.contains('Capítulo'),df['texto'],df['capitulo'])\n",
    "\n",
    "#Para asegurar que aparezca el capitulo IV\n",
    "df['articulo'] = np.where(df['texto'].str.contains('Artículo'),df['texto'],np.nan)\n",
    "df['texto'] = np.where(df['texto']=='', np.nan, df['texto'])\n",
    "df['texto'] = np.where(df['texto']==df['articulo'], np.nan, df['texto'])\n",
    "df['texto'] = np.where(df['texto']==df['capitulo'], np.nan, df['texto'])\n",
    "# Agregar numeral y ordinal (??)\n",
    "\n",
    "\n",
    "df['capitulo'].fillna(method='pad', inplace=True)\n",
    "df['articulo'].fillna(method='pad', inplace=True)"
   ]
  },
  {
   "cell_type": "code",
   "execution_count": 260,
   "id": "4a081a06-d0d2-4f2b-81a2-57a709bb5b77",
   "metadata": {},
   "outputs": [],
   "source": [
    "df.dropna(subset = 'texto', inplace = True)"
   ]
  },
  {
   "cell_type": "code",
   "execution_count": 261,
   "id": "da5dc6ea-c84a-4b0a-9452-9ced3ce6ac40",
   "metadata": {},
   "outputs": [
    {
     "data": {
      "text/plain": [
       "array(['Capítulo I', 'Capítulo II', 'Capítulo III', 'Capítulo IV',\n",
       "       'Capítulo IX', 'Capítulo V', 'Capítulo VI', 'Capítulo VII',\n",
       "       'Capítulo VIII', 'Capítulo X', 'Capítulo XI', 'Capítulo XII',\n",
       "       'Capítulo XIII', 'Capítulo XIV', 'Capítulo XV',\n",
       "       'DECIMOSEXTA.- Las reformas introducidas al Capítulo VIII entran en vigor seis meses después de la publicación de la presente reforma constitucional con la excepción de lo regulado en la disposición decimocuarta.',\n",
       "       'DISPOSICIONES TRANSITORIAS',\n",
       "       'En lo no previsto en este Capítulo, serán aplicables a la tramitación de los proyectos de reforma constitucional las normas sobre formación de la ley, debiendo respetarse siempre los quórums señalados en el inciso anterior.'],\n",
       "      dtype=object)"
      ]
     },
     "execution_count": 261,
     "metadata": {},
     "output_type": "execute_result"
    }
   ],
   "source": [
    "np.unique(df['capitulo'])"
   ]
  },
  {
   "cell_type": "code",
   "execution_count": 262,
   "id": "310e2eac-264e-4ed0-9110-1b741085ee3b",
   "metadata": {},
   "outputs": [
    {
     "data": {
      "text/html": [
       "<div>\n",
       "<style scoped>\n",
       "    .dataframe tbody tr th:only-of-type {\n",
       "        vertical-align: middle;\n",
       "    }\n",
       "\n",
       "    .dataframe tbody tr th {\n",
       "        vertical-align: top;\n",
       "    }\n",
       "\n",
       "    .dataframe thead th {\n",
       "        text-align: right;\n",
       "    }\n",
       "</style>\n",
       "<table border=\"1\" class=\"dataframe\">\n",
       "  <thead>\n",
       "    <tr style=\"text-align: right;\">\n",
       "      <th></th>\n",
       "      <th>texto</th>\n",
       "      <th>capitulo</th>\n",
       "      <th>articulo</th>\n",
       "    </tr>\n",
       "  </thead>\n",
       "  <tbody>\n",
       "    <tr>\n",
       "      <th>2</th>\n",
       "      <td>BASES DE LA INSTITUCIONALIDAD</td>\n",
       "      <td>Capítulo I</td>\n",
       "      <td>NaN</td>\n",
       "    </tr>\n",
       "    <tr>\n",
       "      <th>7</th>\n",
       "      <td>La familia es el núcleo fundamental de la soci...</td>\n",
       "      <td>Capítulo I</td>\n",
       "      <td>Artículo 1°.- Las personas nacen libres e igua...</td>\n",
       "    </tr>\n",
       "    <tr>\n",
       "      <th>8</th>\n",
       "      <td>El Estado reconoce y ampara a los grupos inter...</td>\n",
       "      <td>Capítulo I</td>\n",
       "      <td>Artículo 1°.- Las personas nacen libres e igua...</td>\n",
       "    </tr>\n",
       "    <tr>\n",
       "      <th>9</th>\n",
       "      <td>El Estado está al servicio de la persona human...</td>\n",
       "      <td>Capítulo I</td>\n",
       "      <td>Artículo 1°.- Las personas nacen libres e igua...</td>\n",
       "    </tr>\n",
       "    <tr>\n",
       "      <th>10</th>\n",
       "      <td>Es deber del Estado resguardar la seguridad na...</td>\n",
       "      <td>Capítulo I</td>\n",
       "      <td>Artículo 1°.- Las personas nacen libres e igua...</td>\n",
       "    </tr>\n",
       "    <tr>\n",
       "      <th>...</th>\n",
       "      <td>...</td>\n",
       "      <td>...</td>\n",
       "      <td>...</td>\n",
       "    </tr>\n",
       "    <tr>\n",
       "      <th>1740</th>\n",
       "      <td>Quienes hubieren hecho ejercicio del derecho e...</td>\n",
       "      <td>DECIMOSEXTA.- Las reformas introducidas al Cap...</td>\n",
       "      <td>VIGESIMA.- En tanto no se creen los tribunales...</td>\n",
       "    </tr>\n",
       "    <tr>\n",
       "      <th>1741</th>\n",
       "      <td>Sin perjuicio de lo anterior, quienes hubieren...</td>\n",
       "      <td>DECIMOSEXTA.- Las reformas introducidas al Cap...</td>\n",
       "      <td>VIGESIMA.- En tanto no se creen los tribunales...</td>\n",
       "    </tr>\n",
       "    <tr>\n",
       "      <th>1742</th>\n",
       "      <td>QUINCUAGÉSIMA PRIMERA. Sin perjuicio de las no...</td>\n",
       "      <td>DECIMOSEXTA.- Las reformas introducidas al Cap...</td>\n",
       "      <td>VIGESIMA.- En tanto no se creen los tribunales...</td>\n",
       "    </tr>\n",
       "    <tr>\n",
       "      <th>1743</th>\n",
       "      <td>Anótese, tómese razón y publíquese.- RICARDO L...</td>\n",
       "      <td>DECIMOSEXTA.- Las reformas introducidas al Cap...</td>\n",
       "      <td>VIGESIMA.- En tanto no se creen los tribunales...</td>\n",
       "    </tr>\n",
       "    <tr>\n",
       "      <th>1744</th>\n",
       "      <td>Lo que transcribo a Ud. para su conocimiento.-...</td>\n",
       "      <td>DECIMOSEXTA.- Las reformas introducidas al Cap...</td>\n",
       "      <td>VIGESIMA.- En tanto no se creen los tribunales...</td>\n",
       "    </tr>\n",
       "  </tbody>\n",
       "</table>\n",
       "<p>915 rows × 3 columns</p>\n",
       "</div>"
      ],
      "text/plain": [
       "                                                  texto  \\\n",
       "2                         BASES DE LA INSTITUCIONALIDAD   \n",
       "7     La familia es el núcleo fundamental de la soci...   \n",
       "8     El Estado reconoce y ampara a los grupos inter...   \n",
       "9     El Estado está al servicio de la persona human...   \n",
       "10    Es deber del Estado resguardar la seguridad na...   \n",
       "...                                                 ...   \n",
       "1740  Quienes hubieren hecho ejercicio del derecho e...   \n",
       "1741  Sin perjuicio de lo anterior, quienes hubieren...   \n",
       "1742  QUINCUAGÉSIMA PRIMERA. Sin perjuicio de las no...   \n",
       "1743  Anótese, tómese razón y publíquese.- RICARDO L...   \n",
       "1744  Lo que transcribo a Ud. para su conocimiento.-...   \n",
       "\n",
       "                                               capitulo  \\\n",
       "2                                            Capítulo I   \n",
       "7                                            Capítulo I   \n",
       "8                                            Capítulo I   \n",
       "9                                            Capítulo I   \n",
       "10                                           Capítulo I   \n",
       "...                                                 ...   \n",
       "1740  DECIMOSEXTA.- Las reformas introducidas al Cap...   \n",
       "1741  DECIMOSEXTA.- Las reformas introducidas al Cap...   \n",
       "1742  DECIMOSEXTA.- Las reformas introducidas al Cap...   \n",
       "1743  DECIMOSEXTA.- Las reformas introducidas al Cap...   \n",
       "1744  DECIMOSEXTA.- Las reformas introducidas al Cap...   \n",
       "\n",
       "                                               articulo  \n",
       "2                                                   NaN  \n",
       "7     Artículo 1°.- Las personas nacen libres e igua...  \n",
       "8     Artículo 1°.- Las personas nacen libres e igua...  \n",
       "9     Artículo 1°.- Las personas nacen libres e igua...  \n",
       "10    Artículo 1°.- Las personas nacen libres e igua...  \n",
       "...                                                 ...  \n",
       "1740  VIGESIMA.- En tanto no se creen los tribunales...  \n",
       "1741  VIGESIMA.- En tanto no se creen los tribunales...  \n",
       "1742  VIGESIMA.- En tanto no se creen los tribunales...  \n",
       "1743  VIGESIMA.- En tanto no se creen los tribunales...  \n",
       "1744  VIGESIMA.- En tanto no se creen los tribunales...  \n",
       "\n",
       "[915 rows x 3 columns]"
      ]
     },
     "execution_count": 262,
     "metadata": {},
     "output_type": "execute_result"
    }
   ],
   "source": [
    "df"
   ]
  },
  {
   "cell_type": "code",
   "execution_count": null,
   "id": "29ed7bf5-c361-44fd-b78a-5d27429c02a0",
   "metadata": {},
   "outputs": [],
   "source": []
  },
  {
   "cell_type": "code",
   "execution_count": null,
   "id": "aab0a41c-fa3a-4b15-886d-6685a387ec9f",
   "metadata": {},
   "outputs": [],
   "source": []
  }
 ],
 "metadata": {
  "kernelspec": {
   "display_name": "NLP",
   "language": "python",
   "name": "nlp"
  },
  "language_info": {
   "codemirror_mode": {
    "name": "ipython",
    "version": 3
   },
   "file_extension": ".py",
   "mimetype": "text/x-python",
   "name": "python",
   "nbconvert_exporter": "python",
   "pygments_lexer": "ipython3",
   "version": "3.8.13"
  }
 },
 "nbformat": 4,
 "nbformat_minor": 5
}
